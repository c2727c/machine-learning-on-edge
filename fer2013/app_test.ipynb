{
 "cells": [
  {
   "cell_type": "code",
   "execution_count": 1,
   "metadata": {},
   "outputs": [],
   "source": [
    "#coding:utf-8\n",
    "#python 3.5\n",
    "import tensorflow as tf\n",
    "import numpy as np\n",
    "from PIL import Image\n",
    "import cliquenet as fer_forward\n",
    "import fer_config as config\n",
    "\n",
    "#面部表情类别\n",
    "classes={0:\"Angry\",1:\"Disgust\",2:\"Fear\",3:\"Happy\",4:\"Sad\",5:\"Surprise\",6:\"Neutral\"}\n"
   ]
  },
  {
   "cell_type": "code",
   "execution_count": 2,
   "metadata": {},
   "outputs": [],
   "source": [
    "def pre_data(picName):\n",
    "    img=Image.open(picName)\n",
    "    # 将图片大小转为config.img_width*config.img_height像素并做平滑处理\n",
    "    reIm=img.resize((config.img_width,config.img_height),Image.ANTIALIAS)\n",
    "\n",
    "    # 将图片转为灰度图并存为array\n",
    "    im_arr=np.array(reIm.convert('L'))\n",
    "    # 将config.img_width*config.img_height的array拉直\n",
    "    nm_arr=im_arr.reshape([1,config.img_width*config.img_height])\n",
    "    # nm_arr内数字类型转换为float32\n",
    "    nm_arr=nm_arr.astype(np.float32)\n",
    "    # nm_arr内数字除以255，转为0到1的浮点数\n",
    "    img_ready=np.multiply(nm_arr,1.0/255.0)\n",
    "    # 转换成喂入所需形状\n",
    "    img_ready=np.reshape(img_ready, (1,\n",
    "                         config.img_width,\n",
    "                         config.img_height,\n",
    "                         config.NUM_CHANNELS))\n",
    "    return img_ready\n",
    "\n",
    "\n",
    "\n",
    "# 创建一个会话\n",
    "tPic = '/home/ubuntu/MyFiles/data/fer2013/valid/2076_4.png'\n",
    "def get_session_tensor(tModel='/home/ubuntu/MyFiles/model/fer_cliquenet/fer_model_29999-30000'):\n",
    "    # 【定义要存储的变量 define variable to save】\n",
    "    # 输入x占位\n",
    "    x = tf.placeholder(tf.float32, [1, config.img_width,\n",
    "                                    config.img_height, fer_config.NUM_CHANNELS])\n",
    "    # 获得输出y的前向传播计算图\n",
    "    y=fer_forward.forward(x,False,None)\n",
    "    # 定义预测值为y中最大值的索引号\n",
    "    preValue=tf.argmax(y,1)\n",
    "\n",
    "    # 【创建保存模型的对象 在此之前必须定义好要存储的变量】\n",
    "    # 定义滑动平均\n",
    "    variable_averages=tf.train.ExponentialMovingAverage(config.MOVING_AVERAGE_DECAY)\n",
    "    # 将影子变量直接映射到变量的本身\n",
    "    variables_to_restore=variable_averages.variables_to_restore()\n",
    "    # 创建一个保存模型的对象\n",
    "    saver=tf.train.Saver(variables_to_restore)\n",
    "    sess = tf.Session()\n",
    "    saver.restore(sess, tModel)\n",
    "    return sess,preValue\n",
    "\n",
    "    with tf.Session() as sess:\n",
    "        # 恢复模型\n",
    "        saver.restore(sess, tModel)\n",
    "        while(1):\n",
    "            tPicArr = pre_pic(tPic)\n",
    "            input_x = np.reshape(tPicArr, (1,\n",
    "                                 config.img_width,\n",
    "                                 config.img_height,\n",
    "                                 config.NUM_CHANNELS))\n",
    "            # 计算预测值\n",
    "            ans=sess.run(preValue,feed_dict={x:input_x})\n",
    "            yield [classes[label] for label in ans]\n",
    "\n",
    "            \n",
    "def sess_perform(sess,tens,datapath):\n",
    "    data = pre_data(datapath)\n",
    "    ans=sess.run(preValue,feed_dict={x:input_x})\n",
    "    tPic = tpic\n",
    "    return next(sess)"
   ]
  },
  {
   "cell_type": "code",
   "execution_count": 3,
   "metadata": {},
   "outputs": [
    {
     "name": "stdout",
     "output_type": "stream",
     "text": [
      "INFO:tensorflow:Restoring parameters from /home/ubuntu/MyFiles/model/fer_cliquenet/fer_model_29999-30000\n",
      "['Sad']\n"
     ]
    }
   ],
   "source": [
    "a = session_test('/home/ubuntu/MyFiles/model/fer_cliquenet/fer_model_29999-30000')\n",
    "label = sess_pre_pic(a,'/home/ubuntu/MyFiles/data/fer2013/valid/46_3.png')\n",
    "print(label)"
   ]
  }
 ],
 "metadata": {
  "kernelspec": {
   "display_name": "Python 3",
   "language": "python",
   "name": "python3"
  },
  "language_info": {
   "codemirror_mode": {
    "name": "ipython",
    "version": 3
   },
   "file_extension": ".py",
   "mimetype": "text/x-python",
   "name": "python",
   "nbconvert_exporter": "python",
   "pygments_lexer": "ipython3",
   "version": "3.5.2"
  }
 },
 "nbformat": 4,
 "nbformat_minor": 2
}
