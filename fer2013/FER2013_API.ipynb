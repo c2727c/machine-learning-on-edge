{
 "cells": [
  {
   "cell_type": "code",
   "execution_count": 1,
   "metadata": {},
   "outputs": [
    {
     "name": "stdout",
     "output_type": "stream",
     "text": [
      "model path :/home/ubuntu/MyFiles/model/fer_cliquenet/fer_model_499-500\n",
      "INFO:tensorflow:Restoring parameters from /home/ubuntu/MyFiles/model/fer_cliquenet/fer_model_499-500\n"
     ]
    },
    {
     "data": {
      "text/plain": [
       "['Neutral']"
      ]
     },
     "execution_count": 1,
     "metadata": {},
     "output_type": "execute_result"
    }
   ],
   "source": [
    "from fer_api import FER2013\n",
    "api = FER2013()\n",
    "api.prepare_sess(tModel='/home/ubuntu/MyFiles/model/fer_cliquenet/fer_model_499-500')\n",
    "api.sess_perform('/home/ubuntu/MyFiles/data/fer2013/valid/46_3.png')"
   ]
  },
  {
   "cell_type": "code",
   "execution_count": 2,
   "metadata": {
    "collapsed": true
   },
   "outputs": [
    {
     "ename": "FileNotFoundError",
     "evalue": "[Errno 2] No such file or directory: '/home/ubuntu/MyFiles/data/fer2013/temporary/image/0_0.png'",
     "output_type": "error",
     "traceback": [
      "\u001b[0;31m---------------------------------------------------------------------------\u001b[0m",
      "\u001b[0;31mFileNotFoundError\u001b[0m                         Traceback (most recent call last)",
      "\u001b[0;32m<ipython-input-2-f492b274f49e>\u001b[0m in \u001b[0;36m<module>\u001b[0;34m\u001b[0m\n\u001b[1;32m      2\u001b[0m \u001b[0mTFRPATH\u001b[0m\u001b[0;34m=\u001b[0m\u001b[0;34m'/home/ubuntu/MyFiles/data/fer2013/temporary/test.tfrecords'\u001b[0m\u001b[0;34m\u001b[0m\u001b[0m\n\u001b[1;32m      3\u001b[0m api.csv_to_tfrecord(csv_path=config.test_data_path,\n\u001b[0;32m----> 4\u001b[0;31m                     tfr_path=TFRPATH)\n\u001b[0m",
      "\u001b[0;32m~/user_space/machine-learning-on-edge/fer2013/fer_api.py\u001b[0m in \u001b[0;36mcsv_to_tfrecord\u001b[0;34m(self, csv_path, tfr_path)\u001b[0m\n\u001b[1;32m     99\u001b[0m     \u001b[0;32mdef\u001b[0m \u001b[0mcsv_to_tfrecord\u001b[0m\u001b[0;34m(\u001b[0m\u001b[0mself\u001b[0m\u001b[0;34m,\u001b[0m\u001b[0mcsv_path\u001b[0m\u001b[0;34m,\u001b[0m\u001b[0mtfr_path\u001b[0m\u001b[0;34m=\u001b[0m\u001b[0mconfig\u001b[0m\u001b[0;34m.\u001b[0m\u001b[0mtfRecord_train\u001b[0m\u001b[0;34m)\u001b[0m\u001b[0;34m:\u001b[0m\u001b[0;34m\u001b[0m\u001b[0m\n\u001b[1;32m    100\u001b[0m         \u001b[0mimages_train\u001b[0m\u001b[0;34m,\u001b[0m \u001b[0mlabels_train\u001b[0m\u001b[0;34m=\u001b[0m\u001b[0mfer_gen\u001b[0m\u001b[0;34m.\u001b[0m\u001b[0mread_data\u001b[0m\u001b[0;34m(\u001b[0m\u001b[0mcsv_path\u001b[0m\u001b[0;34m)\u001b[0m\u001b[0;34m\u001b[0m\u001b[0m\n\u001b[0;32m--> 101\u001b[0;31m         \u001b[0mfer_gen\u001b[0m\u001b[0;34m.\u001b[0m\u001b[0mgenerate\u001b[0m\u001b[0;34m(\u001b[0m\u001b[0mimages_train\u001b[0m\u001b[0;34m,\u001b[0m\u001b[0mlabels_train\u001b[0m\u001b[0;34m,\u001b[0m\u001b[0mconfig\u001b[0m\u001b[0;34m.\u001b[0m\u001b[0mtemporary_img_path\u001b[0m\u001b[0;34m,\u001b[0m\u001b[0mconfig\u001b[0m\u001b[0;34m.\u001b[0m\u001b[0mtemporary_label_path\u001b[0m\u001b[0;34m)\u001b[0m\u001b[0;34m\u001b[0m\u001b[0m\n\u001b[0m\u001b[1;32m    102\u001b[0m         \u001b[0mfer_gen\u001b[0m\u001b[0;34m.\u001b[0m\u001b[0mwrite_tfRecord\u001b[0m\u001b[0;34m(\u001b[0m\u001b[0mtfr_path\u001b[0m\u001b[0;34m,\u001b[0m \u001b[0mconfig\u001b[0m\u001b[0;34m.\u001b[0m\u001b[0mtemporary_img_path\u001b[0m\u001b[0;34m,\u001b[0m \u001b[0mconfig\u001b[0m\u001b[0;34m.\u001b[0m\u001b[0mtemporary_label_path\u001b[0m\u001b[0;34m)\u001b[0m\u001b[0;34m\u001b[0m\u001b[0m\n\u001b[1;32m    103\u001b[0m         \u001b[0mcleardir\u001b[0m\u001b[0;34m(\u001b[0m\u001b[0mconfig\u001b[0m\u001b[0;34m.\u001b[0m\u001b[0mtemporary_img_path\u001b[0m\u001b[0;34m)\u001b[0m\u001b[0;34m\u001b[0m\u001b[0m\n",
      "\u001b[0;32m~/user_space/machine-learning-on-edge/fer2013/fer_generateds.py\u001b[0m in \u001b[0;36mgenerate\u001b[0;34m(images, labels, images_path, lables_path)\u001b[0m\n\u001b[1;32m     53\u001b[0m             \u001b[0mimg_path\u001b[0m \u001b[0;34m=\u001b[0m \u001b[0mstr\u001b[0m\u001b[0;34m(\u001b[0m\u001b[0mi\u001b[0m\u001b[0;34m)\u001b[0m \u001b[0;34m+\u001b[0m \u001b[0;34m\"_\"\u001b[0m \u001b[0;34m+\u001b[0m \u001b[0mstr\u001b[0m\u001b[0;34m(\u001b[0m\u001b[0mlabels\u001b[0m\u001b[0;34m[\u001b[0m\u001b[0mi\u001b[0m\u001b[0;34m]\u001b[0m\u001b[0;34m)\u001b[0m \u001b[0;34m+\u001b[0m \u001b[0;34m'.png'\u001b[0m\u001b[0;34m\u001b[0m\u001b[0m\n\u001b[1;32m     54\u001b[0m             \u001b[0;31m# 存储图片\u001b[0m\u001b[0;34m\u001b[0m\u001b[0;34m\u001b[0m\u001b[0m\n\u001b[0;32m---> 55\u001b[0;31m             \u001b[0mimage\u001b[0m\u001b[0;34m.\u001b[0m\u001b[0msave\u001b[0m\u001b[0;34m(\u001b[0m\u001b[0mimages_path\u001b[0m \u001b[0;34m+\u001b[0m \u001b[0mimg_path\u001b[0m\u001b[0;34m)\u001b[0m\u001b[0;34m\u001b[0m\u001b[0m\n\u001b[0m\u001b[1;32m     56\u001b[0m             \u001b[0;31m# 写入label文件\u001b[0m\u001b[0;34m\u001b[0m\u001b[0;34m\u001b[0m\u001b[0m\n\u001b[1;32m     57\u001b[0m             \u001b[0mf\u001b[0m\u001b[0;34m.\u001b[0m\u001b[0mwrite\u001b[0m\u001b[0;34m(\u001b[0m\u001b[0mimg_path\u001b[0m \u001b[0;34m+\u001b[0m \u001b[0;34m\" \"\u001b[0m \u001b[0;34m+\u001b[0m \u001b[0mstr\u001b[0m\u001b[0;34m(\u001b[0m\u001b[0mlabels\u001b[0m\u001b[0;34m[\u001b[0m\u001b[0mi\u001b[0m\u001b[0;34m]\u001b[0m\u001b[0;34m)\u001b[0m\u001b[0;34m)\u001b[0m\u001b[0;34m\u001b[0m\u001b[0m\n",
      "\u001b[0;32m/usr/local/lib/python3.5/dist-packages/PIL/Image.py\u001b[0m in \u001b[0;36msave\u001b[0;34m(self, fp, format, **params)\u001b[0m\n\u001b[1;32m   1945\u001b[0m                 \u001b[0;31m# Open also for reading (\"+\"), because TIFF save_all\u001b[0m\u001b[0;34m\u001b[0m\u001b[0;34m\u001b[0m\u001b[0m\n\u001b[1;32m   1946\u001b[0m                 \u001b[0;31m# writer needs to go back and edit the written data.\u001b[0m\u001b[0;34m\u001b[0m\u001b[0;34m\u001b[0m\u001b[0m\n\u001b[0;32m-> 1947\u001b[0;31m                 \u001b[0mfp\u001b[0m \u001b[0;34m=\u001b[0m \u001b[0mbuiltins\u001b[0m\u001b[0;34m.\u001b[0m\u001b[0mopen\u001b[0m\u001b[0;34m(\u001b[0m\u001b[0mfilename\u001b[0m\u001b[0;34m,\u001b[0m \u001b[0;34m\"w+b\"\u001b[0m\u001b[0;34m)\u001b[0m\u001b[0;34m\u001b[0m\u001b[0m\n\u001b[0m\u001b[1;32m   1948\u001b[0m \u001b[0;34m\u001b[0m\u001b[0m\n\u001b[1;32m   1949\u001b[0m         \u001b[0;32mtry\u001b[0m\u001b[0;34m:\u001b[0m\u001b[0;34m\u001b[0m\u001b[0m\n",
      "\u001b[0;31mFileNotFoundError\u001b[0m: [Errno 2] No such file or directory: '/home/ubuntu/MyFiles/data/fer2013/temporary/image/0_0.png'"
     ]
    }
   ],
   "source": [
    "import fer_config as config\n",
    "TFRPATH='/home/ubuntu/MyFiles/data/fer2013/temporary/test.tfrecords'\n",
    "api.csv_to_tfrecord(csv_path=config.test_data_path,\n",
    "                    tfr_path=TFRPATH)"
   ]
  },
  {
   "cell_type": "code",
   "execution_count": 1,
   "metadata": {},
   "outputs": [
    {
     "name": "stdout",
     "output_type": "stream",
     "text": [
      "INFO:tensorflow:Restoring parameters from /home/ubuntu/MyFiles/model/fer_cliquenet/fer_model_499-500\n",
      "2020-05-16 19:48:56 : After 505 training step(s), loss,accuracy on training batch is 1.54479 , 0.546875.\n",
      "2020-05-16 19:48:57 : After 510 training step(s), loss,accuracy on training batch is 1.56371 , 0.507812.\n",
      "2020-05-16 19:48:58 : After 515 training step(s), loss,accuracy on training batch is 1.61977 , 0.476562.\n",
      "2020-05-16 19:48:59 : After 520 training step(s), loss,accuracy on training batch is 1.63217 , 0.515625.\n",
      "2020-05-16 19:49:00 : After 525 training step(s), loss,accuracy on training batch is 1.64208 , 0.484375.\n",
      "2020-05-16 19:49:01 : After 530 training step(s), loss,accuracy on training batch is 1.65537 , 0.492188.\n",
      "2020-05-16 19:49:01 : After 535 training step(s), loss,accuracy on training batch is 1.59509 , 0.546875.\n",
      "2020-05-16 19:49:02 : After 540 training step(s), loss,accuracy on training batch is 1.78189 , 0.4375.\n",
      "2020-05-16 19:49:03 : After 545 training step(s), loss,accuracy on training batch is 1.79538 , 0.46875.\n",
      "2020-05-16 19:49:04 : After 550 training step(s), loss,accuracy on training batch is 1.61842 , 0.539062.\n",
      "2020-05-16 19:49:05 : After 555 training step(s), loss,accuracy on training batch is 1.78145 , 0.4375.\n",
      "2020-05-16 19:49:06 : After 560 training step(s), loss,accuracy on training batch is 1.81252 , 0.4375.\n",
      "2020-05-16 19:49:07 : After 565 training step(s), loss,accuracy on training batch is 1.78482 , 0.414062.\n",
      "2020-05-16 19:49:08 : After 570 training step(s), loss,accuracy on training batch is 1.64469 , 0.460938.\n",
      "2020-05-16 19:49:09 : After 575 training step(s), loss,accuracy on training batch is 1.82575 , 0.429688.\n",
      "2020-05-16 19:49:10 : After 580 training step(s), loss,accuracy on training batch is 1.71841 , 0.492188.\n",
      "2020-05-16 19:49:11 : After 585 training step(s), loss,accuracy on training batch is 1.78162 , 0.429688.\n",
      "2020-05-16 19:49:12 : After 590 training step(s), loss,accuracy on training batch is 1.68767 , 0.46875.\n",
      "2020-05-16 19:49:13 : After 595 training step(s), loss,accuracy on training batch is 1.71688 , 0.4375.\n",
      "2020-05-16 19:49:13 : After 600 training step(s), loss,accuracy on training batch is 1.64009 , 0.507812.\n",
      "2020-05-16 19:49:14 : After 605 training step(s), loss,accuracy on training batch is 1.57723 , 0.507812.\n",
      "2020-05-16 19:49:15 : After 610 training step(s), loss,accuracy on training batch is 1.63865 , 0.4375.\n",
      "2020-05-16 19:49:16 : After 615 training step(s), loss,accuracy on training batch is 1.62301 , 0.53125.\n",
      "2020-05-16 19:49:17 : After 620 training step(s), loss,accuracy on training batch is 1.73731 , 0.445312.\n",
      "2020-05-16 19:49:18 : After 625 training step(s), loss,accuracy on training batch is 1.71518 , 0.484375.\n",
      "2020-05-16 19:49:19 : After 630 training step(s), loss,accuracy on training batch is 1.67415 , 0.476562.\n",
      "2020-05-16 19:49:20 : After 635 training step(s), loss,accuracy on training batch is 1.56761 , 0.507812.\n",
      "2020-05-16 19:49:21 : After 640 training step(s), loss,accuracy on training batch is 1.67018 , 0.523438.\n",
      "2020-05-16 19:49:22 : After 645 training step(s), loss,accuracy on training batch is 1.73388 , 0.46875.\n",
      "2020-05-16 19:49:23 : After 650 training step(s), loss,accuracy on training batch is 1.65437 , 0.476562.\n",
      "2020-05-16 19:49:24 : After 655 training step(s), loss,accuracy on training batch is 1.63393 , 0.539062.\n",
      "2020-05-16 19:49:24 : After 660 training step(s), loss,accuracy on training batch is 1.7034 , 0.460938.\n",
      "2020-05-16 19:49:25 : After 665 training step(s), loss,accuracy on training batch is 1.70587 , 0.460938.\n",
      "2020-05-16 19:49:26 : After 670 training step(s), loss,accuracy on training batch is 1.76486 , 0.46875.\n",
      "2020-05-16 19:49:27 : After 675 training step(s), loss,accuracy on training batch is 1.78591 , 0.453125.\n",
      "2020-05-16 19:49:28 : After 680 training step(s), loss,accuracy on training batch is 1.60993 , 0.523438.\n",
      "2020-05-16 19:49:29 : After 685 training step(s), loss,accuracy on training batch is 1.65852 , 0.484375.\n",
      "2020-05-16 19:49:30 : After 690 training step(s), loss,accuracy on training batch is 1.55534 , 0.476562.\n",
      "2020-05-16 19:49:31 : After 695 training step(s), loss,accuracy on training batch is 1.72301 , 0.4375.\n",
      "2020-05-16 19:49:32 : After 700 training step(s), loss,accuracy on training batch is 1.6495 , 0.445312.\n",
      "2020-05-16 19:49:33 : After 705 training step(s), loss,accuracy on training batch is 1.56119 , 0.53125.\n",
      "2020-05-16 19:49:34 : After 710 training step(s), loss,accuracy on training batch is 1.64246 , 0.476562.\n",
      "2020-05-16 19:49:35 : After 715 training step(s), loss,accuracy on training batch is 1.66889 , 0.515625.\n",
      "2020-05-16 19:49:36 : After 720 training step(s), loss,accuracy on training batch is 1.55021 , 0.53125.\n",
      "2020-05-16 19:49:36 : After 725 training step(s), loss,accuracy on training batch is 1.54183 , 0.492188.\n",
      "2020-05-16 19:49:37 : After 730 training step(s), loss,accuracy on training batch is 1.52568 , 0.515625.\n",
      "2020-05-16 19:49:38 : After 735 training step(s), loss,accuracy on training batch is 1.64455 , 0.539062.\n",
      "2020-05-16 19:49:39 : After 740 training step(s), loss,accuracy on training batch is 1.80279 , 0.4375.\n",
      "2020-05-16 19:49:40 : After 745 training step(s), loss,accuracy on training batch is 1.5932 , 0.539062.\n",
      "2020-05-16 19:49:41 : After 750 training step(s), loss,accuracy on training batch is 1.62249 , 0.515625.\n",
      "2020-05-16 19:49:42 : After 755 training step(s), loss,accuracy on training batch is 1.60302 , 0.46875.\n",
      "2020-05-16 19:49:43 : After 760 training step(s), loss,accuracy on training batch is 1.69742 , 0.429688.\n",
      "2020-05-16 19:49:44 : After 765 training step(s), loss,accuracy on training batch is 1.75947 , 0.46875.\n",
      "2020-05-16 19:49:45 : After 770 training step(s), loss,accuracy on training batch is 1.57603 , 0.546875.\n",
      "2020-05-16 19:49:46 : After 775 training step(s), loss,accuracy on training batch is 1.54843 , 0.507812.\n",
      "2020-05-16 19:49:47 : After 780 training step(s), loss,accuracy on training batch is 1.56864 , 0.546875.\n",
      "2020-05-16 19:49:47 : After 785 training step(s), loss,accuracy on training batch is 1.69355 , 0.484375.\n",
      "2020-05-16 19:49:48 : After 790 training step(s), loss,accuracy on training batch is 1.6944 , 0.445312.\n",
      "2020-05-16 19:49:49 : After 795 training step(s), loss,accuracy on training batch is 1.56238 , 0.53125.\n",
      "2020-05-16 19:49:50 : After 800 training step(s), loss,accuracy on training batch is 1.46234 , 0.59375.\n",
      "2020-05-16 19:49:51 : After 805 training step(s), loss,accuracy on training batch is 1.54686 , 0.515625.\n",
      "2020-05-16 19:49:52 : After 810 training step(s), loss,accuracy on training batch is 1.73285 , 0.445312.\n",
      "2020-05-16 19:49:53 : After 815 training step(s), loss,accuracy on training batch is 1.58006 , 0.554688.\n",
      "2020-05-16 19:49:54 : After 820 training step(s), loss,accuracy on training batch is 1.53652 , 0.5625.\n",
      "2020-05-16 19:49:55 : After 825 training step(s), loss,accuracy on training batch is 1.40959 , 0.601562.\n",
      "2020-05-16 19:49:56 : After 830 training step(s), loss,accuracy on training batch is 1.67784 , 0.40625.\n",
      "2020-05-16 19:49:57 : After 835 training step(s), loss,accuracy on training batch is 1.69923 , 0.453125.\n",
      "2020-05-16 19:49:58 : After 840 training step(s), loss,accuracy on training batch is 1.56207 , 0.546875.\n",
      "2020-05-16 19:49:58 : After 845 training step(s), loss,accuracy on training batch is 1.6128 , 0.46875.\n",
      "2020-05-16 19:49:59 : After 850 training step(s), loss,accuracy on training batch is 1.56244 , 0.523438.\n",
      "2020-05-16 19:50:00 : After 855 training step(s), loss,accuracy on training batch is 1.64634 , 0.484375.\n",
      "2020-05-16 19:50:01 : After 860 training step(s), loss,accuracy on training batch is 1.48335 , 0.546875.\n",
      "2020-05-16 19:50:02 : After 865 training step(s), loss,accuracy on training batch is 1.60025 , 0.5.\n",
      "2020-05-16 19:50:03 : After 870 training step(s), loss,accuracy on training batch is 1.46171 , 0.59375.\n",
      "2020-05-16 19:50:04 : After 875 training step(s), loss,accuracy on training batch is 1.70142 , 0.46875.\n",
      "2020-05-16 19:50:05 : After 880 training step(s), loss,accuracy on training batch is 1.56801 , 0.507812.\n",
      "2020-05-16 19:50:06 : After 885 training step(s), loss,accuracy on training batch is 1.67044 , 0.5.\n",
      "2020-05-16 19:50:07 : After 890 training step(s), loss,accuracy on training batch is 1.75013 , 0.5.\n"
     ]
    },
    {
     "name": "stdout",
     "output_type": "stream",
     "text": [
      "2020-05-16 19:50:08 : After 895 training step(s), loss,accuracy on training batch is 1.57229 , 0.523438.\n",
      "2020-05-16 19:50:09 : After 900 training step(s), loss,accuracy on training batch is 1.51531 , 0.554688.\n",
      "2020-05-16 19:50:10 : After 905 training step(s), loss,accuracy on training batch is 1.36751 , 0.625.\n",
      "2020-05-16 19:50:11 : After 910 training step(s), loss,accuracy on training batch is 1.49994 , 0.507812.\n",
      "2020-05-16 19:50:11 : After 915 training step(s), loss,accuracy on training batch is 1.48075 , 0.539062.\n",
      "2020-05-16 19:50:12 : After 920 training step(s), loss,accuracy on training batch is 1.48727 , 0.53125.\n",
      "2020-05-16 19:50:13 : After 925 training step(s), loss,accuracy on training batch is 1.58933 , 0.445312.\n",
      "2020-05-16 19:50:14 : After 930 training step(s), loss,accuracy on training batch is 1.60783 , 0.578125.\n",
      "2020-05-16 19:50:15 : After 935 training step(s), loss,accuracy on training batch is 1.5285 , 0.515625.\n",
      "2020-05-16 19:50:16 : After 940 training step(s), loss,accuracy on training batch is 1.50914 , 0.53125.\n",
      "2020-05-16 19:50:17 : After 945 training step(s), loss,accuracy on training batch is 1.51652 , 0.523438.\n",
      "2020-05-16 19:50:18 : After 950 training step(s), loss,accuracy on training batch is 1.60074 , 0.476562.\n",
      "2020-05-16 19:50:19 : After 955 training step(s), loss,accuracy on training batch is 1.62368 , 0.5.\n",
      "2020-05-16 19:50:20 : After 960 training step(s), loss,accuracy on training batch is 1.47988 , 0.554688.\n",
      "2020-05-16 19:50:21 : After 965 training step(s), loss,accuracy on training batch is 1.46748 , 0.601562.\n",
      "2020-05-16 19:50:21 : After 970 training step(s), loss,accuracy on training batch is 1.64185 , 0.4375.\n",
      "2020-05-16 19:50:22 : After 975 training step(s), loss,accuracy on training batch is 1.569 , 0.453125.\n",
      "2020-05-16 19:50:23 : After 980 training step(s), loss,accuracy on training batch is 1.49066 , 0.5625.\n",
      "2020-05-16 19:50:24 : After 985 training step(s), loss,accuracy on training batch is 1.67782 , 0.445312.\n",
      "2020-05-16 19:50:25 : After 990 training step(s), loss,accuracy on training batch is 1.66949 , 0.453125.\n",
      "2020-05-16 19:50:26 : After 995 training step(s), loss,accuracy on training batch is 1.50526 , 0.492188.\n",
      "2020-05-16 19:50:27 : After 1000 training step(s), loss,accuracy on training batch is 1.45569 , 0.59375.\n"
     ]
    }
   ],
   "source": [
    "import time\n",
    "import threading\n",
    "from fer_api import FER2013\n",
    "api = FER2013()\n",
    "tfRecord_train='/home/ubuntu/MyFiles/data/fer2013/fer2013_train.tfrecords'\n",
    "api.incre_train(datapath=tfRecord_train,\n",
    "               step_num=500,\n",
    "               save_interval=100)"
   ]
  },
  {
   "cell_type": "code",
   "execution_count": 8,
   "metadata": {},
   "outputs": [
    {
     "name": "stdout",
     "output_type": "stream",
     "text": [
      "model path :/home/ubuntu/MyFiles/model/fer_cliquenet/backup/fer_model_29999-30000\n",
      "INFO:tensorflow:Restoring parameters from /home/ubuntu/MyFiles/model/fer_cliquenet/backup/fer_model_29999-30000\n"
     ]
    }
   ],
   "source": [
    "from fer_api import FER2013\n",
    "import tensorflow as tf\n",
    "api = FER2013()\n",
    "tf.reset_default_graph()\n",
    "api.prepare_sess('/home/ubuntu/MyFiles/model/fer_cliquenet/backup/fer_model_29999-30000')"
   ]
  },
  {
   "cell_type": "code",
   "execution_count": 9,
   "metadata": {},
   "outputs": [
    {
     "data": {
      "text/plain": [
       "['Happy']"
      ]
     },
     "execution_count": 9,
     "metadata": {},
     "output_type": "execute_result"
    }
   ],
   "source": [
    "api.sess_perform('/home/ubuntu/MyFiles/data/fer2013/valid/46_3.png')"
   ]
  },
  {
   "cell_type": "code",
   "execution_count": 10,
   "metadata": {},
   "outputs": [],
   "source": [
    "tf.reset_default_graph()"
   ]
  },
  {
   "cell_type": "code",
   "execution_count": null,
   "metadata": {},
   "outputs": [],
   "source": []
  }
 ],
 "metadata": {
  "kernelspec": {
   "display_name": "Python 3",
   "language": "python",
   "name": "python3"
  },
  "language_info": {
   "codemirror_mode": {
    "name": "ipython",
    "version": 3
   },
   "file_extension": ".py",
   "mimetype": "text/x-python",
   "name": "python",
   "nbconvert_exporter": "python",
   "pygments_lexer": "ipython3",
   "version": "3.5.2"
  }
 },
 "nbformat": 4,
 "nbformat_minor": 2
}
